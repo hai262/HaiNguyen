{
 "cells": [
  {
   "cell_type": "code",
   "execution_count": 13,
   "id": "cdf1d9f0-e6fb-4873-ad7f-ada0c1cd7518",
   "metadata": {},
   "outputs": [
    {
     "name": "stdout",
     "output_type": "stream",
     "text": [
      "Overwriting myinfor.py\n"
     ]
    }
   ],
   "source": [
    "%%writefile myinfor.py\n",
    "import streamlit as st\n",
    "\n",
    "# --- Page Configuration ---\n",
    "st.set_page_config(page_title=\"Welcome to My Portfolio\", layout=\"wide\")\n",
    "\n",
    "# --- Custom CSS for Background Image & Bottom-Aligned Text ---\n",
    "page_bg_img = \"\"\"\n",
    "<style>\n",
    "/* Full-page Background Image */\n",
    ".stApp {\n",
    "    background-image: url(\"https://cdn.pixilart.com/photos/large/a93749a9418029b.jpg\");\n",
    "    background-size: cover;\n",
    "    background-position: center;\n",
    "    background-repeat: no-repeat;\n",
    "    background-attachment: fixed;\n",
    "}\n",
    "\n",
    "/* Container to hold the text at the bottom */\n",
    ".bottom-text-container {\n",
    "    position: fixed;\n",
    "    bottom: 20px; /* Adjust this value to move text higher or lower */\n",
    "    left: 50%;\n",
    "    transform: translateX(-50%);\n",
    "    background: rgba(0, 0, 0, 0.6); /* Dark semi-transparent background */\n",
    "    padding: 10px 20px;\n",
    "    border-radius: 10px;\n",
    "    text-align: center;\n",
    "    width: 80%;\n",
    "}\n",
    "\n",
    "/* Styling for Text */\n",
    ".bottom-text {\n",
    "    color: white;\n",
    "    font-size: 22px;\n",
    "    font-weight: bold;\n",
    "    text-shadow: 3px 3px 5px rgba(0,0,0,0.7);\n",
    "}\n",
    "</style>\n",
    "\"\"\"\n",
    "\n",
    "# Apply the CSS\n",
    "st.markdown(page_bg_img, unsafe_allow_html=True)\n",
    "\n",
    "# --- Bottom-Aligned Text ---\n",
    "st.markdown(\n",
    "    \"\"\"\n",
    "    <div class=\"bottom-text-container\">\n",
    "        <p class=\"bottom-text\">🚀 Explore my projects, skills, and experience in Data Science & Analytics.</p>\n",
    "        <p class=\"bottom-text\">🔍 Stay curious, keep learning, and build amazing things!</p>\n",
    "    </div>\n",
    "    \"\"\",\n",
    "    unsafe_allow_html=True\n",
    ")"
   ]
  },
  {
   "cell_type": "code",
   "execution_count": null,
   "id": "2ab2ba77-5529-40db-9639-dad0fa4d7d44",
   "metadata": {},
   "outputs": [],
   "source": []
  }
 ],
 "metadata": {
  "kernelspec": {
   "display_name": "Python 3 (ipykernel)",
   "language": "python",
   "name": "python3"
  },
  "language_info": {
   "codemirror_mode": {
    "name": "ipython",
    "version": 3
   },
   "file_extension": ".py",
   "mimetype": "text/x-python",
   "name": "python",
   "nbconvert_exporter": "python",
   "pygments_lexer": "ipython3",
   "version": "3.12.4"
  }
 },
 "nbformat": 4,
 "nbformat_minor": 5
}
